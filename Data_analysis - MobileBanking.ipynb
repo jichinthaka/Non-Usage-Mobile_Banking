{
 "cells": [
  {
   "cell_type": "code",
   "execution_count": 1,
   "metadata": {},
   "outputs": [],
   "source": [
    "import pandas as pd\n",
    "from sklearn import preprocessing\n",
    "import math"
   ]
  },
  {
   "cell_type": "code",
   "execution_count": 2,
   "metadata": {},
   "outputs": [
    {
     "data": {
      "text/plain": "                         Timestamp What is your gender? What is your age?  \\\n0  2020/11/01 11:52:56 am GMT+5:30               Female             25-45   \n1  2020/11/01 11:56:02 am GMT+5:30                 Male             16-25   \n2  2020/11/01 12:09:14 pm GMT+5:30                 Male             25-45   \n\n  What is the District you are from? What is your marital status?  \\\n0                              Kandy                      Married   \n1                           Kalutara                       Single   \n2                              Kandy                       Single   \n\n  Select your highest education level   What is your Employment?  \\\n0                    Degree / Diploma  Private Sector - Employee   \n1                    Degree / Diploma                    Student   \n2                    Degree / Diploma  Private Sector - Employee   \n\n  What is your monthly income range (If you don’t have a job, select NA)  \\\n0                                    15,000 - 50,000                       \n1                                   Less than 15,000                       \n2                                   50,000 - 100,000                       \n\n  How long are you using a smartphone?  \\\n0                         2 to 5 years   \n1                        1 to  2 years   \n2                         2 to 5 years   \n\n  What is the distance(km) to your nearest bank ?  ...  \\\n0                                             1-3  ...   \n1                                             1-3  ...   \n2                                             1-3  ...   \n\n  Select the types of banks where you have accounts  \\\n0                    Private banks;Government banks   \n1                    Private banks;Government banks   \n2                    Private banks;Government banks   \n\n  How many deposit transactions do you do for Last Month?  \\\n0                                              1 - 5        \n1                                              1 - 5        \n2                                              1 - 5        \n\n  How many deposit transactions do you do for the Month before Last Month?  \\\n0                                              1 - 5                         \n1                                              1 - 5                         \n2                                              1 - 5                         \n\n  How many withdrawal transactions do you do for Last Month?  \\\n0                                              1 - 5           \n1                                              1 - 5           \n2                                              1 - 5           \n\n  How many withdrawal transactions do you do for the Month before Last Month?  \\\n0                                              1 - 5                            \n1                                              1 - 5                            \n2                                              1 - 5                            \n\n  What are the reasons you use the bank counter or ATM for?  \\\n0                                   Money withdrawal          \n1                 Money withdrawal;Money Transaction          \n2  Money withdrawal;Money deposit;Credit card pay...          \n\n  Do you know that there are mobile banking app to do banking works in your bank?  \\\n0                                                Yes                                \n1                                                Yes                                \n2                                                Yes                                \n\n  Do you know the features what we can do using mobile banking apps?  \\\n0                                                Yes                   \n1                                                Yes                   \n2                                                Yes                   \n\n  Do you have an idea to use a mobile banking app in near future  \\\n0                                                 No               \n1                                                Yes               \n2                                                Yes               \n\n  What are the reasons to not use a mobile banking app?  \n0             Not satisfied with the service charges     \n1              Fear to start with lack of experience     \n2  Not satisfied with the service charges;Fear to...     \n\n[3 rows x 22 columns]",
      "text/html": "<div>\n<style scoped>\n    .dataframe tbody tr th:only-of-type {\n        vertical-align: middle;\n    }\n\n    .dataframe tbody tr th {\n        vertical-align: top;\n    }\n\n    .dataframe thead th {\n        text-align: right;\n    }\n</style>\n<table border=\"1\" class=\"dataframe\">\n  <thead>\n    <tr style=\"text-align: right;\">\n      <th></th>\n      <th>Timestamp</th>\n      <th>What is your gender?</th>\n      <th>What is your age?</th>\n      <th>What is the District you are from?</th>\n      <th>What is your marital status?</th>\n      <th>Select your highest education level</th>\n      <th>What is your Employment?</th>\n      <th>What is your monthly income range (If you don’t have a job, select NA)</th>\n      <th>How long are you using a smartphone?</th>\n      <th>What is the distance(km) to your nearest bank ?</th>\n      <th>...</th>\n      <th>Select the types of banks where you have accounts</th>\n      <th>How many deposit transactions do you do for Last Month?</th>\n      <th>How many deposit transactions do you do for the Month before Last Month?</th>\n      <th>How many withdrawal transactions do you do for Last Month?</th>\n      <th>How many withdrawal transactions do you do for the Month before Last Month?</th>\n      <th>What are the reasons you use the bank counter or ATM for?</th>\n      <th>Do you know that there are mobile banking app to do banking works in your bank?</th>\n      <th>Do you know the features what we can do using mobile banking apps?</th>\n      <th>Do you have an idea to use a mobile banking app in near future</th>\n      <th>What are the reasons to not use a mobile banking app?</th>\n    </tr>\n  </thead>\n  <tbody>\n    <tr>\n      <th>0</th>\n      <td>2020/11/01 11:52:56 am GMT+5:30</td>\n      <td>Female</td>\n      <td>25-45</td>\n      <td>Kandy</td>\n      <td>Married</td>\n      <td>Degree / Diploma</td>\n      <td>Private Sector - Employee</td>\n      <td>15,000 - 50,000</td>\n      <td>2 to 5 years</td>\n      <td>1-3</td>\n      <td>...</td>\n      <td>Private banks;Government banks</td>\n      <td>1 - 5</td>\n      <td>1 - 5</td>\n      <td>1 - 5</td>\n      <td>1 - 5</td>\n      <td>Money withdrawal</td>\n      <td>Yes</td>\n      <td>Yes</td>\n      <td>No</td>\n      <td>Not satisfied with the service charges</td>\n    </tr>\n    <tr>\n      <th>1</th>\n      <td>2020/11/01 11:56:02 am GMT+5:30</td>\n      <td>Male</td>\n      <td>16-25</td>\n      <td>Kalutara</td>\n      <td>Single</td>\n      <td>Degree / Diploma</td>\n      <td>Student</td>\n      <td>Less than 15,000</td>\n      <td>1 to  2 years</td>\n      <td>1-3</td>\n      <td>...</td>\n      <td>Private banks;Government banks</td>\n      <td>1 - 5</td>\n      <td>1 - 5</td>\n      <td>1 - 5</td>\n      <td>1 - 5</td>\n      <td>Money withdrawal;Money Transaction</td>\n      <td>Yes</td>\n      <td>Yes</td>\n      <td>Yes</td>\n      <td>Fear to start with lack of experience</td>\n    </tr>\n    <tr>\n      <th>2</th>\n      <td>2020/11/01 12:09:14 pm GMT+5:30</td>\n      <td>Male</td>\n      <td>25-45</td>\n      <td>Kandy</td>\n      <td>Single</td>\n      <td>Degree / Diploma</td>\n      <td>Private Sector - Employee</td>\n      <td>50,000 - 100,000</td>\n      <td>2 to 5 years</td>\n      <td>1-3</td>\n      <td>...</td>\n      <td>Private banks;Government banks</td>\n      <td>1 - 5</td>\n      <td>1 - 5</td>\n      <td>1 - 5</td>\n      <td>1 - 5</td>\n      <td>Money withdrawal;Money deposit;Credit card pay...</td>\n      <td>Yes</td>\n      <td>Yes</td>\n      <td>Yes</td>\n      <td>Not satisfied with the service charges;Fear to...</td>\n    </tr>\n  </tbody>\n</table>\n<p>3 rows × 22 columns</p>\n</div>"
     },
     "execution_count": 2,
     "metadata": {},
     "output_type": "execute_result"
    }
   ],
   "source": [
    "data  = pd.read_csv('Mobile_Banking_App_Usage _analysis.csv')\n",
    "data.head(3)"
   ]
  },
  {
   "cell_type": "code",
   "execution_count": 3,
   "metadata": {},
   "outputs": [
    {
     "name": "stdout",
     "output_type": "stream",
     "text": [
      "(87, 22)\n"
     ]
    }
   ],
   "source": [
    "print(data.shape)"
   ]
  },
  {
   "cell_type": "code",
   "execution_count": 4,
   "outputs": [
    {
     "data": {
      "text/plain": "Index(['Timestamp', 'What is your gender?', 'What is your age?',\n       'What is the District you are from?', 'What is your marital status?',\n       'Select your highest education level', 'What is your Employment?',\n       'What is your monthly income range (If you don’t have a job, select NA)',\n       'How long are you using a smartphone?',\n       'What is the distance(km) to your nearest bank ?',\n       'In how many banks do you have accounts',\n       'Select the types of accounts you have ',\n       'Select the types of banks where you have accounts',\n       'How many deposit transactions do you do for Last Month?',\n       'How many deposit transactions do you do for the Month before Last Month?',\n       'How many withdrawal transactions do you do for Last Month?',\n       'How many withdrawal transactions do you do for the Month before Last Month?',\n       'What are the reasons you use the bank counter or ATM for?',\n       'Do you know that there are mobile banking app to do banking works in your bank?',\n       'Do you know the features what we can do using mobile banking apps?',\n       'Do you have an idea to use a mobile banking app in near future',\n       'What are the reasons to not use a mobile banking app?'],\n      dtype='object')"
     },
     "execution_count": 4,
     "metadata": {},
     "output_type": "execute_result"
    }
   ],
   "source": [
    "data.columns"
   ],
   "metadata": {
    "collapsed": false,
    "pycharm": {
     "name": "#%%\n"
    }
   }
  },
  {
   "cell_type": "code",
   "execution_count": 7,
   "outputs": [],
   "source": [
    "#Confidence Interval for a Single Proportion"
   ],
   "metadata": {
    "collapsed": false,
    "pycharm": {
     "name": "#%%\n"
    }
   }
  },
  {
   "cell_type": "code",
   "execution_count": null,
   "outputs": [],
   "source": [
    "#Age\n",
    "results = data['What is your gender?'].value_counts()\n",
    "results\n",
    "\n",
    "pHat = (results.get('Female')/ (results.get('Female') + results.get('Male')))\n",
    "z = 1.96\n",
    "confInterval = z * math.sqrt((pHat*(1-pHat)/ (results.get('Female') + results.get('Male'))))\n",
    "lB = (pHat-confInterval)\n",
    "uB = (pHat+confInterval)\n",
    "print(lB)\n",
    "print(uB)"
   ],
   "metadata": {
    "collapsed": false,
    "pycharm": {
     "name": "#%%\n"
    }
   }
  },
  {
   "cell_type": "code",
   "execution_count": null,
   "outputs": [],
   "source": [
    "#Age - Test\n",
    "\n",
    "results = largeTransactions = data['What is your gender?'].value_counts()\n",
    "\n",
    "pHat = (results.get('Male')/ (results.get('Female') + results.get('Male')))\n",
    "n = results.get('Female') + results.get('Male')\n",
    "p = 0.5\n",
    "z = (pHat - p)/math.sqrt((p * (1-p))/n)\n",
    "print(results.get('Female'))\n",
    "print(results.get('Male'))\n",
    "print(z)"
   ],
   "metadata": {
    "collapsed": false,
    "pycharm": {
     "name": "#%%\n"
    }
   }
  },
  {
   "cell_type": "code",
   "execution_count": 7,
   "outputs": [
    {
     "name": "stdout",
     "output_type": "stream",
     "text": [
      "0.8623829956164567\n",
      "0.9766974641536582\n"
     ]
    }
   ],
   "source": [
    "# Intended to use\n",
    "results = data['Do you have an idea to use a mobile banking app in near future'].value_counts()\n",
    "results\n",
    "\n",
    "pHat = (results.get('Yes')/ (results.get('Yes') + results.get('No')))\n",
    "z = 1.96\n",
    "confInterval = z * math.sqrt((pHat*(1-pHat)/ (results.get('Yes') + results.get('No'))))\n",
    "lB = (pHat-confInterval)\n",
    "uB = (pHat+confInterval)\n",
    "print(lB)\n",
    "print(uB)"
   ],
   "metadata": {
    "collapsed": false,
    "pycharm": {
     "name": "#%%\n"
    }
   }
  },
  {
   "cell_type": "code",
   "execution_count": null,
   "outputs": [],
   "source": [
    "# Intended to use - Test\n",
    "\n",
    "results = largeTransactions = data['Do you have an idea to use a mobile banking app in near future'].value_counts()\n",
    "\n",
    "pHat = (results.get('Yes')/ (results.get('Yes') + results.get('No')))\n",
    "n = results.get('Yes') + results.get('No')\n",
    "p = 0.8\n",
    "z = (pHat - p)/math.sqrt((p * (1-p))/n)\n",
    "print(results.get('Yes'))\n",
    "print(results.get('No'))\n",
    "print(z)\n"
   ],
   "metadata": {
    "collapsed": false,
    "pycharm": {
     "name": "#%%\n"
    }
   }
  },
  {
   "cell_type": "code",
   "execution_count": 22,
   "outputs": [
    {
     "data": {
      "text/plain": "26"
     },
     "execution_count": 22,
     "metadata": {},
     "output_type": "execute_result"
    }
   ],
   "source": [
    "maleLessAcc = data[(data['What is your gender?'] == 'Male') & ((data['In how many banks do you have accounts'] == '1') | (data['In how many banks do you have accounts'] == '2'))].shape[0]\n",
    "maleLessAcc"
   ],
   "metadata": {
    "collapsed": false,
    "pycharm": {
     "name": "#%%\n"
    }
   }
  },
  {
   "cell_type": "code",
   "execution_count": 23,
   "outputs": [
    {
     "data": {
      "text/plain": "22"
     },
     "execution_count": 23,
     "metadata": {},
     "output_type": "execute_result"
    }
   ],
   "source": [
    "femaleLessAcc = data[(data['What is your gender?'] == 'Female') & ((data['In how many banks do you have accounts'] == '1') | (data['In how many banks do you have accounts'] == '2'))].shape[0]\n",
    "femaleLessAcc"
   ],
   "metadata": {
    "collapsed": false,
    "pycharm": {
     "name": "#%%\n"
    }
   }
  },
  {
   "cell_type": "code",
   "execution_count": 24,
   "outputs": [
    {
     "data": {
      "text/plain": "24"
     },
     "execution_count": 24,
     "metadata": {},
     "output_type": "execute_result"
    }
   ],
   "source": [
    "maleMoreAcc = data[(data['What is your gender?'] == 'Male') & (((data['In how many banks do you have accounts'] == '3') | (data['In how many banks do you have accounts'] == '4') | (data['In how many banks do you have accounts'] == '5')| (data['In how many banks do you have accounts'] == 'More than 5')))].shape[0]\n",
    "maleMoreAcc"
   ],
   "metadata": {
    "collapsed": false,
    "pycharm": {
     "name": "#%%\n"
    }
   }
  },
  {
   "cell_type": "code",
   "execution_count": 25,
   "outputs": [
    {
     "data": {
      "text/plain": "15"
     },
     "execution_count": 25,
     "metadata": {},
     "output_type": "execute_result"
    }
   ],
   "source": [
    "femaleMoreAcc = data[(data['What is your gender?'] == 'Female') & (((data['In how many banks do you have accounts'] == '3') | (data['In how many banks do you have accounts'] == '4') | (data['In how many banks do you have accounts'] == '5')| (data['In how many banks do you have accounts'] == 'More than 5')))].shape[0]\n",
    "femaleMoreAcc"
   ],
   "metadata": {
    "collapsed": false,
    "pycharm": {
     "name": "#%%\n"
    }
   }
  },
  {
   "cell_type": "code",
   "execution_count": 26,
   "outputs": [
    {
     "name": "stdout",
     "output_type": "stream",
     "text": [
      "0.176459627745503\n",
      "-0.10186503315090845\n",
      "0.25105422234009755\n"
     ]
    }
   ],
   "source": [
    "p1 = (maleMoreAcc/ (maleMoreAcc + maleLessAcc))\n",
    "p2= (femaleMoreAcc/ (femaleMoreAcc + femaleLessAcc))\n",
    "z = 1.645\n",
    "confInterval = z *math.sqrt((p1*(1-p1)/(maleMoreAcc + maleLessAcc)) + (p2*(1-p2)/(femaleMoreAcc + femaleLessAcc)))\n",
    "print(confInterval)\n",
    "lB = (p1-p2-confInterval)\n",
    "uB = (p1-p2+confInterval)\n",
    "print(lB)\n",
    "print(uB)\n"
   ],
   "metadata": {
    "collapsed": false,
    "pycharm": {
     "name": "#%%\n"
    }
   }
  },
  {
   "cell_type": "code",
   "execution_count": 27,
   "outputs": [
    {
     "name": "stdout",
     "output_type": "stream",
     "text": [
      "0.48\n",
      "0.40540540540540543\n",
      "0.4482758620689655\n",
      "0.691671571925262\n"
     ]
    }
   ],
   "source": [
    "p1 = (maleMoreAcc/ (maleMoreAcc + maleLessAcc))\n",
    "p2= (femaleMoreAcc/ (femaleMoreAcc + femaleLessAcc))\n",
    "pHat = (maleMoreAcc + femaleMoreAcc)/ (maleMoreAcc + maleLessAcc + femaleMoreAcc + femaleLessAcc)\n",
    "n1 = maleMoreAcc + maleLessAcc\n",
    "n2 = femaleMoreAcc + femaleLessAcc\n",
    "print(p1)\n",
    "print(p2)\n",
    "print(pHat)\n",
    "z = (p1 - p2)/math.sqrt((pHat*(1-pHat)/n1)+(pHat*(1-pHat)/n2))\n",
    "print(z)\n"
   ],
   "metadata": {
    "collapsed": false,
    "pycharm": {
     "name": "#%%\n"
    }
   }
  },
  {
   "cell_type": "code",
   "execution_count": 28,
   "outputs": [
    {
     "data": {
      "text/plain": "13"
     },
     "execution_count": 28,
     "metadata": {},
     "output_type": "execute_result"
    }
   ],
   "source": [
    "maleLessWithdrwl = data[(data['What is your gender?'] == 'Male') & (data['How many withdrawal transactions do you do for Last Month?'] == 'Non')].shape[0]\n",
    "maleLessWithdrwl"
   ],
   "metadata": {
    "collapsed": false,
    "pycharm": {
     "name": "#%%\n"
    }
   }
  },
  {
   "cell_type": "code",
   "execution_count": 29,
   "outputs": [
    {
     "data": {
      "text/plain": "16"
     },
     "execution_count": 29,
     "metadata": {},
     "output_type": "execute_result"
    }
   ],
   "source": [
    "femaleLessWithdrwl = data[(data['What is your gender?'] == 'Female') & (data['How many withdrawal transactions do you do for Last Month?'] == 'Non')].shape[0]\n",
    "femaleLessWithdrwl"
   ],
   "metadata": {
    "collapsed": false,
    "pycharm": {
     "name": "#%%\n"
    }
   }
  },
  {
   "cell_type": "code",
   "execution_count": 30,
   "outputs": [
    {
     "data": {
      "text/plain": "37"
     },
     "execution_count": 30,
     "metadata": {},
     "output_type": "execute_result"
    }
   ],
   "source": [
    "maleMoreWithdrwl = data[(data['What is your gender?'] == 'Male') & (((data['How many withdrawal transactions do you do for Last Month?'] == '1 - 5') | (data['How many withdrawal transactions do you do for Last Month?'] == '5 - 10') | (data['How many withdrawal transactions do you do for Last Month?'] == '10 - 30')| (data['How many withdrawal transactions do you do for Last Month?'] == 'more than 30')))].shape[0]\n",
    "maleMoreWithdrwl"
   ],
   "metadata": {
    "collapsed": false,
    "pycharm": {
     "name": "#%%\n"
    }
   }
  },
  {
   "cell_type": "code",
   "execution_count": 31,
   "outputs": [
    {
     "data": {
      "text/plain": "19"
     },
     "execution_count": 31,
     "metadata": {},
     "output_type": "execute_result"
    }
   ],
   "source": [
    "femaleMoreWithdrwl = data[(data['What is your gender?'] == 'Female') & (((data['How many withdrawal transactions do you do for Last Month?'] == '1 - 5') | (data['How many withdrawal transactions do you do for Last Month?'] == '5 - 10') | (data['How many withdrawal transactions do you do for Last Month?'] == '10 - 30')| (data['How many withdrawal transactions do you do for Last Month?'] == 'more than 30')))].shape[0]\n",
    "femaleMoreWithdrwl\n"
   ],
   "metadata": {
    "collapsed": false,
    "pycharm": {
     "name": "#%%\n"
    }
   }
  }
 ],
 "metadata": {
  "kernelspec": {
   "display_name": "Python 3",
   "language": "python",
   "name": "python3"
  },
  "language_info": {
   "codemirror_mode": {
    "name": "ipython",
    "version": 3
   },
   "file_extension": ".py",
   "mimetype": "text/x-python",
   "name": "python",
   "nbconvert_exporter": "python",
   "pygments_lexer": "ipython3",
   "version": "3.6.9"
  }
 },
 "nbformat": 4,
 "nbformat_minor": 4
}